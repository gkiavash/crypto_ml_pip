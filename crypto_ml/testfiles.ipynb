{
 "cells": [
  {
   "cell_type": "code",
   "execution_count": null,
   "metadata": {
    "collapsed": true
   },
   "outputs": [],
   "source": [
    "import pandas as pd"
   ]
  },
  {
   "cell_type": "code",
   "execution_count": 1,
   "outputs": [],
   "source": [
    "import pandas as pd"
   ],
   "metadata": {
    "collapsed": false,
    "pycharm": {
     "name": "#%%\n"
    }
   }
  },
  {
   "cell_type": "code",
   "execution_count": 20,
   "outputs": [],
   "source": [
    "df = pd.DataFrame(columns=[\"order_id\",\"result\", \"%\", \"profit\", \"status\", \"qty\", \"buy_price\", \"buy_date\",\n",
    "         \"sell_price\", \"sell_date\"])"
   ],
   "metadata": {
    "collapsed": false,
    "pycharm": {
     "name": "#%%\n"
    }
   }
  },
  {
   "cell_type": "code",
   "execution_count": 29,
   "outputs": [
    {
     "name": "stdout",
     "output_type": "stream",
     "text": [
      "   order_id  result  %  profit  status  qty  buy_price  buy_date  sell_price  \\\n",
      "1         1       2  3       4       5    6          7         8           9   \n",
      "2         1       2  3       4       5    6          7         8           9   \n",
      "3         1       2  3       4       5    6          7         8           9   \n",
      "4         1       2  3       4       5    6          7         8           9   \n",
      "5         1       2  3       4       5    6          7         8           9   \n",
      "6         1       2  3       4       5    6          7         8           9   \n",
      "7         1       2  3       4       5    6          7         8           9   \n",
      "8         1       2  3       4       5    6          7         8           9   \n",
      "9         1       2  3       4       5    6          7         8           9   \n",
      "\n",
      "   sell_date  \n",
      "1         10  \n",
      "2         10  \n",
      "3         10  \n",
      "4         10  \n",
      "5         10  \n",
      "6         10  \n",
      "7         10  \n",
      "8         10  \n",
      "9         10  \n"
     ]
    }
   ],
   "source": [
    "df.loc[df.shape[0]+1]= [1,2,3,4,5,6,7,8,9,10]\n",
    "print (df)"
   ],
   "metadata": {
    "collapsed": false,
    "pycharm": {
     "name": "#%%\n"
    }
   }
  },
  {
   "cell_type": "code",
   "execution_count": null,
   "outputs": [],
   "source": [],
   "metadata": {
    "collapsed": false,
    "pycharm": {
     "name": "#%%\n"
    }
   }
  }
 ],
 "metadata": {
  "kernelspec": {
   "display_name": "Python 3",
   "language": "python",
   "name": "python3"
  },
  "language_info": {
   "codemirror_mode": {
    "name": "ipython",
    "version": 2
   },
   "file_extension": ".py",
   "mimetype": "text/x-python",
   "name": "python",
   "nbconvert_exporter": "python",
   "pygments_lexer": "ipython2",
   "version": "2.7.6"
  }
 },
 "nbformat": 4,
 "nbformat_minor": 0
}